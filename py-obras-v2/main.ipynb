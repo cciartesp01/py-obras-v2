{
 "cells": [
  {
   "attachments": {},
   "cell_type": "markdown",
   "metadata": {},
   "source": [
    "<img src= \"https://cciocorrencias.com/static/images/home/cci_artesp_nobg.png\"\n",
    " alt=\"Texto alternativo\" width=\"400\" height=\"100\">\n",
    "\n",
    "## **Analisador de arquivos:** *Intervenções Viárias*\n",
    "---"
   ]
  },
  {
   "attachments": {},
   "cell_type": "markdown",
   "metadata": {},
   "source": [
    "#### **Autor da Análise:** Diego Ferreira Marques. \n",
    "#### **Tel:** (11) 3465-2413\n",
    "#### **Ferramenta utilizada:** Python (Versão 3.11.3)\n",
    "#### **Bibliotecas utilizadas para a análise:** Pandas (Versão 2.0.3) e Openpyxl (Versão 3.1.2)\n",
    "\n",
    "---"
   ]
  },
  {
   "attachments": {},
   "cell_type": "markdown",
   "metadata": {},
   "source": [
    "#### **Importa bibliotecas para análise**"
   ]
  },
  {
   "cell_type": "code",
   "execution_count": 10,
   "metadata": {},
   "outputs": [],
   "source": [
    "import pandas as pd\n",
    "import openpyxl as op\n",
    "from auxilio.listas import RODOVIAS, COD_SERVICO, SERVICO, DATA_INICIO, DATA_FIM, COD_NIVEL_SERVICO"
   ]
  },
  {
   "attachments": {},
   "cell_type": "markdown",
   "metadata": {},
   "source": [
    "#### **Leitura dos arquivos entregues e criação do dataframe**\n",
    "---"
   ]
  },
  {
   "attachments": {},
   "cell_type": "markdown",
   "metadata": {},
   "source": [
    "#### **OBS:** *o período do arquivo precisa estar de acordo com o período da semana analisada*"
   ]
  },
  {
   "cell_type": "code",
   "execution_count": 11,
   "metadata": {},
   "outputs": [],
   "source": [
    "# Digite o nome do caminho e nome do arquivo\n",
    "\n",
    "# Exemplo: \"./2023-09-11__2023-09-17/L28-ENTREVIAS/L28_PROG-SEMANAL-OBRAS-28-08-23_03-09-23.xlsx\". Alterar o período conforme a obs acima\n",
    "CAMINHO = \"./2023-10-16__2023-10-22/L01-AUTOBAN/TESTE-AUTOBAN.xlsx\""
   ]
  },
  {
   "cell_type": "code",
   "execution_count": 12,
   "metadata": {},
   "outputs": [],
   "source": [
    "# Abas do arquivo que serão analisadas\n",
    "DADOS = \"DADOS\"\n",
    "CAPA = \"CAPA\""
   ]
  },
  {
   "cell_type": "code",
   "execution_count": 13,
   "metadata": {},
   "outputs": [
    {
     "name": "stderr",
     "output_type": "stream",
     "text": [
      "c:\\Users\\diego.marques\\Desktop\\PROJETOS_DIEGO\\PYTHON\\analise-pedagio\\analisa-obras\\venv\\Lib\\site-packages\\openpyxl\\worksheet\\header_footer.py:48: UserWarning: Cannot parse header or footer so it will be ignored\n",
      "  warn(\"\"\"Cannot parse header or footer so it will be ignored\"\"\")\n"
     ]
    }
   ],
   "source": [
    "# Dataframe da aba CAPA\n",
    "df_capa = pd.read_excel(CAMINHO, sheet_name= CAPA)\n",
    "\n",
    "# Dataframe da aba DADOS\n",
    "df_dados = pd.read_excel(CAMINHO, sheet_name= DADOS)"
   ]
  },
  {
   "cell_type": "markdown",
   "metadata": {},
   "source": [
    "##### **Colunas necessárias para análise**"
   ]
  },
  {
   "cell_type": "code",
   "execution_count": 14,
   "metadata": {},
   "outputs": [],
   "source": [
    "# Colunas que serão analisadas. A coluna APOIO PMRv não precisa estar preenchida, já que: PREENCHIDA = SIM, NÃO PREENCHIDA = NÃO\n",
    "\n",
    "colunas_verificacao = ['LOTE', 'RODOVIA', 'CÓD. DO SERVIÇO', 'DETALHAMENTO DO SERVIÇO', \n",
    "                       'KM INICIAL', 'LAT KM INICIAL', 'LON KM INICIAL', 'KM FINAL', 'LAT KM FINAL', 'LON KM FINAL', 'SENTIDO', \n",
    "                       'DATA INÍCIO', 'HORA INÍCIO', 'DATA FIM', 'HORA FIM', \n",
    "                       'FI1', 'FI2', 'FI3', 'FI4', 'FI5', 'FI6', 'FIAC', 'ALT.', \n",
    "                       'EMPRESA RESPONSÁVEL', 'RESPONSÁVEL TÉCNICO PELA OPERAÇÃO VIÁRIA', \n",
    "                       'ART DO RESPONSÁVEL TÉCNICO', 'NÍVEL DE SERVIÇO C/ INTERVENÇÃO', 'MUNICÍPIO']\n",
    "\n",
    "df_dados = df_dados[colunas_verificacao]"
   ]
  },
  {
   "cell_type": "markdown",
   "metadata": {},
   "source": [
    "### **LOTE ANALISADO**"
   ]
  },
  {
   "cell_type": "code",
   "execution_count": 15,
   "metadata": {},
   "outputs": [
    {
     "name": "stdout",
     "output_type": "stream",
     "text": [
      "\u001b[94mO LOTE QUE ESTÁ SENDO ANALISADO É O\u001b[0m L1\n"
     ]
    }
   ],
   "source": [
    "temp_df = df_dados.copy()\n",
    "\n",
    "lote_avaliado = (temp_df[\"LOTE\"].unique())\n",
    "lote_avaliado = str(lote_avaliado).strip('[]')\n",
    "print(f\"\\033[94mO LOTE QUE ESTÁ SENDO ANALISADO É O\\033[0m L{lote_avaliado}\")"
   ]
  },
  {
   "attachments": {},
   "cell_type": "markdown",
   "metadata": {},
   "source": [
    "### **Verifica CAPA**\n",
    "---"
   ]
  },
  {
   "attachments": {},
   "cell_type": "markdown",
   "metadata": {},
   "source": [
    "#### **Período MIN**"
   ]
  },
  {
   "cell_type": "code",
   "execution_count": 16,
   "metadata": {},
   "outputs": [
    {
     "name": "stdout",
     "output_type": "stream",
     "text": [
      "2023-10-23 00:00:00\n"
     ]
    }
   ],
   "source": [
    "print(df_capa.iloc[18, 2])"
   ]
  },
  {
   "attachments": {},
   "cell_type": "markdown",
   "metadata": {},
   "source": [
    "#### **Período MAX**"
   ]
  },
  {
   "cell_type": "code",
   "execution_count": 17,
   "metadata": {},
   "outputs": [
    {
     "name": "stdout",
     "output_type": "stream",
     "text": [
      "2023-10-29 00:00:00\n"
     ]
    }
   ],
   "source": [
    "print(df_capa.iloc[21, 2])"
   ]
  },
  {
   "attachments": {},
   "cell_type": "markdown",
   "metadata": {},
   "source": [
    "### **Análise 1: colunas com linhas em branco**\n",
    "---"
   ]
  },
  {
   "cell_type": "code",
   "execution_count": 18,
   "metadata": {},
   "outputs": [
    {
     "name": "stdout",
     "output_type": "stream",
     "text": [
      "\u001b[92mNão foram encontradas linhas vazias. VERIFICAÇÃO OK\u001b[0m\n"
     ]
    }
   ],
   "source": [
    "temp_df = df_dados.copy()\n",
    "\n",
    "# Verifica se existem linhas vazias\n",
    "linhas_vazias = temp_df[temp_df[colunas_verificacao].isnull().any(axis=1)] \n",
    "\n",
    "# Condição para verificação\n",
    "if linhas_vazias.empty: \n",
    "    print(\"\\033[92mNão foram encontradas linhas vazias. VERIFICAÇÃO OK\\033[0m\")\n",
    "else:\n",
    "    for index, row in linhas_vazias.iterrows():\n",
    "        for col in colunas_verificacao:\n",
    "            if pd.isnull(row[col]):\n",
    "                print(f\"\\033[91mANÁLISE CONTÉM DIVERGÊNCIAS!! Célula em branco encontrada na\\033[0m (linha {index + 2}, da coluna '{col}')\")\n",
    "                display(linhas_vazias)"
   ]
  },
  {
   "attachments": {},
   "cell_type": "markdown",
   "metadata": {},
   "source": [
    "### **Análise 2: coluna LOTE com mais de um LOTE**\n",
    "---"
   ]
  },
  {
   "cell_type": "code",
   "execution_count": 19,
   "metadata": {},
   "outputs": [
    {
     "name": "stdout",
     "output_type": "stream",
     "text": [
      "\u001b[92mA coluna 'LOTE' contém apenas 1 valor. VERIFICAÇÃO OK\u001b[0m\n"
     ]
    }
   ],
   "source": [
    "temp_df = df_dados.copy()\n",
    "\n",
    "# Cria variável com valores únicos\n",
    "valores_unicos_lote = temp_df[\"LOTE\"].unique()\n",
    "\n",
    "# Condição para verificação\n",
    "if len(valores_unicos_lote) == 1:\n",
    "    print(\"\\033[92mA coluna 'LOTE' contém apenas 1 valor. VERIFICAÇÃO OK\\033[0m\")  # Texto em verde\n",
    "else:\n",
    "    print(\"\\033[91mANÁLISE CONTÉM DIVERGÊNCIAS!! Existe mais de um valor na coluna LOTE, sendo ele(s):\\033[0m\", valores_unicos_lote)  # Texto em vermelho"
   ]
  },
  {
   "attachments": {},
   "cell_type": "markdown",
   "metadata": {},
   "source": [
    "### **Análise 3: preenchimento da coluna RODOVIA**\n",
    "---"
   ]
  },
  {
   "cell_type": "code",
   "execution_count": 20,
   "metadata": {},
   "outputs": [
    {
     "name": "stdout",
     "output_type": "stream",
     "text": [
      "\u001b[92mA coluna 'RODOVIA' está preenchida corretamente. VERIFICAÇÃO OK\u001b[0m\n"
     ]
    }
   ],
   "source": [
    "temp_df = df_dados.copy()\n",
    "\n",
    "rodovia_fora = df_dados.loc[~temp_df[\"RODOVIA\"].isin(RODOVIAS), \"RODOVIA\"]\n",
    "valores_rodovia_fora = rodovia_fora.values.tolist()\n",
    "valores_unicos_fora = set(valores_rodovia_fora)\n",
    "\n",
    "if not valores_rodovia_fora:\n",
    "    print(\"\\033[92mA coluna 'RODOVIA' está preenchida corretamente. VERIFICAÇÃO OK\\033[0m\")\n",
    "else:\n",
    "    print(f\"\\033[91mANÁLISE CONTÉM DIVERGÊNCIAS!! Existem campos preenchidos indevidamentes, sendo eles:\\033[0m {valores_unicos_fora}\")"
   ]
  },
  {
   "attachments": {},
   "cell_type": "markdown",
   "metadata": {},
   "source": [
    "### **Análise 4: preenchimento da coluna CÓD. DO SERVIÇO**\n",
    "---"
   ]
  },
  {
   "cell_type": "code",
   "execution_count": 21,
   "metadata": {},
   "outputs": [
    {
     "name": "stdout",
     "output_type": "stream",
     "text": [
      "\u001b[92mA coluna 'CÓD DO SERVIÇO' está preenchida corretamente. VERIFICAÇÃO OK\u001b[0m\n"
     ]
    }
   ],
   "source": [
    "temp_df = df_dados.copy()\n",
    "\n",
    "cod_servico_fora = temp_df.loc[~temp_df[\"CÓD. DO SERVIÇO\"].isin(COD_SERVICO), \"CÓD. DO SERVIÇO\"]\n",
    "valores_cod_fora = cod_servico_fora.values.tolist()\n",
    "\n",
    "if not valores_cod_fora:\n",
    "    print(\"\\033[92mA coluna 'CÓD DO SERVIÇO' está preenchida corretamente. VERIFICAÇÃO OK\\033[0m\")\n",
    "else:\n",
    "    print(f\"\\033[91mANÁLISE CONTÉM DIVERGÊNCIAS!! Existem campos preenchidos indevidamentes, sendo eles:\\033[0m {valores_cod_fora}\")"
   ]
  },
  {
   "attachments": {},
   "cell_type": "markdown",
   "metadata": {},
   "source": [
    "### **Análise 5: DETALHAMENTO DO SERVIÇO (PENDENTE)**\n",
    "---"
   ]
  },
  {
   "cell_type": "code",
   "execution_count": 22,
   "metadata": {},
   "outputs": [],
   "source": [
    "# temp_df = df_dados.copy()\n",
    "\n",
    "# servico_fora = temp_df.loc[~temp_df[\"DETALHAMENTO DO SERVIÇO\"].isin(SERVICO), \"DETALHAMENTO DO SERVIÇO\"]\n",
    "# valores_servico_fora = servico_fora.values.tolist()\n",
    "\n",
    "# if not valores_servico_fora:\n",
    "#     print(\"A coluna 'CÓD DO SERVIÇO' está preenchida corretamente. Verificação OK\")\n",
    "# else:\n",
    "#     print(f\"Existem campos preenchidos indevidamentes, sendo eles: {valores_servico_fora}\")"
   ]
  },
  {
   "attachments": {},
   "cell_type": "markdown",
   "metadata": {},
   "source": [
    "### **Verificação: colunas DATA INICIO e DATA FIM**\n",
    "---"
   ]
  },
  {
   "cell_type": "code",
   "execution_count": 23,
   "metadata": {},
   "outputs": [
    {
     "data": {
      "text/plain": [
       "<DatetimeArray>\n",
       "['2023-10-23 00:00:00', '2023-10-24 00:00:00', '2023-10-25 00:00:00',\n",
       " '2023-10-26 00:00:00', '2023-10-27 00:00:00', '2023-10-28 00:00:00',\n",
       " '2023-10-29 00:00:00']\n",
       "Length: 7, dtype: datetime64[ns]"
      ]
     },
     "execution_count": 23,
     "metadata": {},
     "output_type": "execute_result"
    }
   ],
   "source": [
    "df_dados[\"DATA INÍCIO\"].unique()"
   ]
  },
  {
   "cell_type": "code",
   "execution_count": 24,
   "metadata": {},
   "outputs": [
    {
     "data": {
      "text/plain": [
       "<DatetimeArray>\n",
       "['2023-10-23 00:00:00', '2023-10-24 00:00:00', '2023-10-25 00:00:00',\n",
       " '2023-10-26 00:00:00', '2023-10-27 00:00:00', '2023-10-28 00:00:00',\n",
       " '2023-10-29 00:00:00']\n",
       "Length: 7, dtype: datetime64[ns]"
      ]
     },
     "execution_count": 24,
     "metadata": {},
     "output_type": "execute_result"
    }
   ],
   "source": [
    "df_dados[\"DATA FIM\"].unique()"
   ]
  },
  {
   "attachments": {},
   "cell_type": "markdown",
   "metadata": {},
   "source": [
    "### **Verificação: coluna de SENTIDO**\n",
    "---"
   ]
  },
  {
   "cell_type": "code",
   "execution_count": 25,
   "metadata": {},
   "outputs": [
    {
     "name": "stdout",
     "output_type": "stream",
     "text": [
      "\u001b[92mA coluna 'SENTIDO', está preenchida corretamente. VERIFICAÇÃO OK\u001b[0m\n"
     ]
    }
   ],
   "source": [
    "temp_df = df_dados.copy()\n",
    "\n",
    "SENTIDO = ['N', 'S', 'NS', 'L', 'O', 'LO', 'E', 'I', 'EI']\n",
    "\n",
    "cod_sentido_fora = temp_df.loc[~temp_df[\"SENTIDO\"].isin(SENTIDO), \"SENTIDO\"]\n",
    "valores_sentido_fora = cod_sentido_fora.values.tolist()\n",
    "valores_unicos_fora = set(valores_sentido_fora)\n",
    "\n",
    "if not valores_sentido_fora:\n",
    "    print(\"\\033[92mA coluna 'SENTIDO', está preenchida corretamente. VERIFICAÇÃO OK\\033[0m\")\n",
    "else:\n",
    "    print(f\"\\033[91mANÁLISE CONTÉM DIVERGÊNCIAS!! Existem campos preenchidos indevidamente, sendo eles:\\033[0m {valores_unicos_fora}\")"
   ]
  },
  {
   "attachments": {},
   "cell_type": "markdown",
   "metadata": {},
   "source": [
    "### **Análise 6: preenchimento nas colunas de faixa, canteiro e acostamento**\n",
    "---"
   ]
  },
  {
   "cell_type": "code",
   "execution_count": 26,
   "metadata": {},
   "outputs": [
    {
     "name": "stdout",
     "output_type": "stream",
     "text": [
      "\u001b[92mA coluna 'FI1' está preenchida corretamente. VERIFICAÇÃO OK\u001b[0m\n",
      "\u001b[92mA coluna 'FI2' está preenchida corretamente. VERIFICAÇÃO OK\u001b[0m\n",
      "\u001b[92mA coluna 'FI3' está preenchida corretamente. VERIFICAÇÃO OK\u001b[0m\n",
      "\u001b[92mA coluna 'FI4' está preenchida corretamente. VERIFICAÇÃO OK\u001b[0m\n",
      "\u001b[92mA coluna 'FI5' está preenchida corretamente. VERIFICAÇÃO OK\u001b[0m\n",
      "\u001b[92mA coluna 'FI6' está preenchida corretamente. VERIFICAÇÃO OK\u001b[0m\n",
      "\u001b[92mA coluna 'FIAC' está preenchida corretamente. VERIFICAÇÃO OK\u001b[0m\n",
      "\u001b[92mA coluna 'ALT.' está preenchida corretamente. VERIFICAÇÃO OK\u001b[0m\n"
     ]
    }
   ],
   "source": [
    "temp_df = df_dados.copy()\n",
    "\n",
    "# Lista de colunas para verificar\n",
    "colunas_verificacao = ['FI1', 'FI2', 'FI3', 'FI4', 'FI5', 'FI6', 'FIAC', 'ALT.']\n",
    "\n",
    "# Constante para verificação\n",
    "FI = [\"S\", \"N\"]\n",
    "\n",
    "for coluna in colunas_verificacao:\n",
    "\n",
    "    # Coloca todos os valores das colunas de verificação para MAÍUSCULA\n",
    "    temp_df[coluna] = temp_df[coluna].str.upper()\n",
    "    \n",
    "    valores_fora = temp_df[~temp_df[coluna].isin(FI)]\n",
    "\n",
    "    if not valores_fora.empty:\n",
    "        print(f\"\\033[91mANÁLISE CONTÉM DIVERGÊNCIAS!! A coluna\\033[0m '{coluna}' \\033[91mcontém valores fora do esperado:\\033[0m\")\n",
    "        print(valores_fora)\n",
    "    else:\n",
    "        print(f\"\\033[92mA coluna '{coluna}' está preenchida corretamente. VERIFICAÇÃO OK\\033[0m\")"
   ]
  },
  {
   "attachments": {},
   "cell_type": "markdown",
   "metadata": {},
   "source": [
    "### **Análise 7: preenchimento na coluna NÍVEL DE SERVIÇO**\n",
    "---"
   ]
  },
  {
   "cell_type": "code",
   "execution_count": 27,
   "metadata": {},
   "outputs": [
    {
     "name": "stdout",
     "output_type": "stream",
     "text": [
      "\u001b[92mA coluna 'NÍVEL DE SERVIÇO' está preenchida corretamente. VERIFICAÇÃO OK\u001b[0m\n"
     ]
    }
   ],
   "source": [
    "# Cria cópia do dataframe original\n",
    "temp_df = df_dados.copy()\n",
    "\n",
    "nivel_servico_fora = temp_df.loc[~temp_df[\"NÍVEL DE SERVIÇO C/ INTERVENÇÃO\"].isin(COD_NIVEL_SERVICO), \"NÍVEL DE SERVIÇO C/ INTERVENÇÃO\"]\n",
    "valores_nivel_servico_fora = nivel_servico_fora.values.tolist()\n",
    "\n",
    "if not valores_nivel_servico_fora:\n",
    "    print(\"\\033[92mA coluna 'NÍVEL DE SERVIÇO' está preenchida corretamente. VERIFICAÇÃO OK\\033[0m\")\n",
    "else:\n",
    "    print(f\"\\033[91mANÁLISE CONTÉM DIVERGÊNCIAS!! Existem campos preenchidos indevidamentes, sendo eles:\\033[0m {valores_nivel_servico_fora}\")"
   ]
  }
 ],
 "metadata": {
  "kernelspec": {
   "display_name": "venv",
   "language": "python",
   "name": "python3"
  },
  "language_info": {
   "codemirror_mode": {
    "name": "ipython",
    "version": 3
   },
   "file_extension": ".py",
   "mimetype": "text/x-python",
   "name": "python",
   "nbconvert_exporter": "python",
   "pygments_lexer": "ipython3",
   "version": "3.11.3"
  },
  "orig_nbformat": 4
 },
 "nbformat": 4,
 "nbformat_minor": 2
}
